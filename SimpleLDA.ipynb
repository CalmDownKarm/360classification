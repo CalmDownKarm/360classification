{
 "cells": [
  {
   "cell_type": "code",
   "execution_count": 1,
   "metadata": {},
   "outputs": [],
   "source": [
    "from nltk.corpus import stopwords \n",
    "from nltk.stem.wordnet import WordNetLemmatizer\n",
    "import pandas as pd\n",
    "import numpy as np\n",
    "import matplotlib.pyplot as plt\n",
    "from sklearn.cluster import KMeans\n",
    "%matplotlib inline\n",
    "from sklearn.cluster import AgglomerativeClustering\n",
    "from sklearn.neighbors import kneighbors_graph\n",
    "from sklearn.manifold import TSNE\n",
    "# from fastText import tokenize, load_model\n",
    "import gensim\n",
    "import glob\n",
    "import string"
   ]
  },
  {
   "cell_type": "code",
   "execution_count": 2,
   "metadata": {},
   "outputs": [
    {
     "name": "stderr",
     "output_type": "stream",
     "text": [
      "/home/paperspace/anaconda3/envs/fastai/lib/python3.6/site-packages/IPython/core/interactiveshell.py:2785: DtypeWarning: Columns (8,10,13,19,20,21,23,24,25,31,34,35,36,37,38,39,40,41,42,43,44,45,46,47,49,50,51,53,54,55,57,58,59,61,62,63,65,66,67) have mixed types. Specify dtype option on import or set low_memory=False.\n",
      "  interactivity=interactivity, compiler=compiler, result=result)\n"
     ]
    }
   ],
   "source": [
    "df1 = pd.read_csv(\"grantnav-20180526072920.csv\",encoding='utf-8')\n",
    "df1 = df1[['Title', 'Description']]\n",
    "df1 = df1.dropna()"
   ]
  },
  {
   "cell_type": "code",
   "execution_count": 3,
   "metadata": {},
   "outputs": [],
   "source": [
    "descs = set(df1[~df1['Description'].isin(['Placeholder', 'None', 'donation','Ynot!', 'A', 'a', '-', 'none', '004649'])].Description.values)\n",
    "# Removing some garbage values"
   ]
  },
  {
   "cell_type": "code",
   "execution_count": 4,
   "metadata": {},
   "outputs": [],
   "source": [
    "titles = set(df1[~df1['Title'].isin(['.','C','-','x',])].Title.values)"
   ]
  },
  {
   "cell_type": "markdown",
   "metadata": {},
   "source": [
    "Descriptions should be somewhat cleaned now in terms of entries and values. "
   ]
  },
  {
   "cell_type": "code",
   "execution_count": 5,
   "metadata": {},
   "outputs": [],
   "source": [
    "def clean(doc):\n",
    "    stop_free = \" \".join([i for i in doc.lower().split() if i not in stop])\n",
    "    normalized = \" \".join(lemma.lemmatize(word,'v') for word in stop_free.split())\n",
    "    x = normalized.split()\n",
    "    y = [s for s in x if len(s) > 2]\n",
    "    return y"
   ]
  },
  {
   "cell_type": "code",
   "execution_count": 9,
   "metadata": {},
   "outputs": [
    {
     "name": "stdout",
     "output_type": "stream",
     "text": [
      "[nltk_data] Downloading package wordnet to\n",
      "[nltk_data]     /home/paperspace/nltk_data...\n",
      "[nltk_data]   Unzipping corpora/wordnet.zip.\n"
     ]
    },
    {
     "data": {
      "text/plain": [
       "True"
      ]
     },
     "execution_count": 9,
     "metadata": {},
     "output_type": "execute_result"
    }
   ],
   "source": [
    "import nltk\n",
    "nltk.download('wordnet')"
   ]
  },
  {
   "cell_type": "code",
   "execution_count": 11,
   "metadata": {},
   "outputs": [],
   "source": [
    "stop = set(stopwords.words('english'))\n",
    "exclude = set(string.punctuation) \n",
    "lemma = WordNetLemmatizer()\n",
    "doc_clean = [clean(doc) for doc in descs]"
   ]
  },
  {
   "cell_type": "code",
   "execution_count": 12,
   "metadata": {},
   "outputs": [],
   "source": [
    "from gensim import corpora\n",
    "# Creating term dictionary of corpus, where each unique term is assigned an index. \n",
    "dictionary = corpora.Dictionary(doc_clean)\n",
    "# Filter terms which occurs in less than 4 articles & more than 40% of the articles \n",
    "dictionary.filter_extremes(no_below=4, no_above=0.4)\n",
    "filter_worlds = ['grant', 'award', ]"
   ]
  },
  {
   "cell_type": "code",
   "execution_count": 13,
   "metadata": {},
   "outputs": [],
   "source": [
    "doc_term_matrix = [dictionary.doc2bow(doc) for doc in doc_clean]"
   ]
  },
  {
   "cell_type": "code",
   "execution_count": 17,
   "metadata": {},
   "outputs": [],
   "source": [
    "# from gensim.models.ldamodel import LdaModel as Lda\n",
    "from gensim import models\n",
    "# Creating the object for LDA model using gensim library & Training LDA model on the document term matrix.\n",
    "lda = models.LdaMulticore(doc_term_matrix, id2word=dictionary, num_topics=50, workers=3)\n",
    "# ldamodel = Lda(doc_term_matrix, num_topics=50, id2word = dictionary, passes=50, iterations=500)"
   ]
  },
  {
   "cell_type": "code",
   "execution_count": 19,
   "metadata": {},
   "outputs": [
    {
     "name": "stdout",
     "output_type": "stream",
     "text": [
      "['0.031*\"award\" ', ' 0.025*\"anniversary\" ', ' 0.022*\"members\" ', ' 0.021*\"hold\" ', ' 0.021*\"end\" ', ' 0.017*\"use\" ', ' 0.016*\"60th\" ', ' 0.016*\"group\" ', ' 0.015*\"commemorate\" ', ' 0.014*\"event\"'] \n",
      "\n",
      "['0.031*\"radio\" ', ' 0.017*\"hospital\" ', ' 0.015*\"new\" ', ' 0.011*\"station\" ', ' 0.011*\"cancer\" ', ' 0.010*\"broadcast\" ', ' 0.010*\"rehabilitation\" ', ' 0.009*\"patients\" ', ' 0.008*\"breast\" ', ' 0.007*\"library\"'] \n",
      "\n",
      "['0.064*\"young\" ', ' 0.054*\"people\" ', ' 0.032*\"provide\" ', ' 0.030*\"activities\" ', ' 0.024*\"use\" ', ' 0.021*\"fund\" ', ' 0.021*\"group\" ', ' 0.017*\"skills\" ', ' 0.016*\"social\" ', ' 0.015*\"improve\"'] \n",
      "\n",
      "['0.023*\"bowl\" ', ' 0.019*\"bike\" ', ' 0.016*\"water\" ', ' 0.014*\"mat\" ', ' 0.009*\"supply\" ', ' 0.009*\"would\" ', ' 0.009*\"power\" ', ' 0.009*\"lighting,\" ', ' 0.009*\"restoration\" ', ' 0.008*\"conservation\"'] \n",
      "\n",
      "['0.013*\"replace\" ', ' 0.012*\"use\" ', ' 0.009*\"safety\" ', ' 0.007*\"old\" ', ' 0.006*\"maternal\" ', ' 0.006*\"months\" ', ' 0.006*\"health\" ', ' 0.006*\"intervention\" ', ' 0.006*\"malaria\" ', ' 0.005*\"everyone\"'] \n",
      "\n",
      "['0.019*\"study\" ', ' 0.008*\"use\" ', ' 0.007*\"brain\" ', ' 0.006*\"treatment\" ', ' 0.006*\"effect\" ', ' 0.006*\"drug\" ', ' 0.006*\"test\" ', ' 0.006*\"investigate\" ', ' 0.006*\"patients\" ', ' 0.006*\"clinical\"'] \n",
      "\n",
      "['0.050*\"grant\" ', ' 0.027*\"group\" ', ' 0.022*\"costs,\" ', ' 0.021*\"fund\" ', ' 0.017*\"award\" ', ' 0.017*\"transport\" ', ' 0.015*\"hire,\" ', ' 0.014*\"pay\" ', ' 0.014*\"provide\" ', ' 0.013*\"fees,\"'] \n",
      "\n",
      "['0.043*\"use\" ', ' 0.038*\"new\" ', ' 0.037*\"group\" ', ' 0.035*\"purchase\" ', ' 0.034*\"equipment\" ', ' 0.022*\"enable\" ', ' 0.020*\"award\" ', ' 0.015*\"members\" ', ' 0.015*\"system\" ', ' 0.014*\"improve\"'] \n",
      "\n",
      "['0.015*\"science\" ', ' 0.010*\"research\" ', ' 0.009*\"medical\" ', ' 0.009*\"make\" ', ' 0.008*\"university\" ', ' 0.008*\"explore\" ', ' 0.007*\"work\" ', ' 0.007*\"new\" ', ' 0.006*\"scientific\" ', ' 0.005*\"public\"'] \n",
      "\n",
      "['0.041*\"film\" ', ' 0.020*\"production\" ', ' 0.010*\"show\" ', ' 0.009*\"screen\" ', ' 0.009*\"speak\" ', ' 0.008*\"memory\" ', ' 0.008*\"nurse\" ', ' 0.008*\"use\" ', ' 0.007*\"group\" ', ' 0.007*\"web\"'] \n",
      "\n",
      "['0.015*\"commission\" ', ' 0.012*\"museum\" ', ' 0.012*\"lung\" ', ' 0.010*\"newcastle.\" ', ' 0.007*\"dog\" ', ' 0.006*\"copy\" ', ' 0.006*\"theatrical\" ', ' 0.006*\"exhibition\" ', ' 0.006*\"airway\" ', ' 0.006*\"chief\"'] \n",
      "\n",
      "['0.045*\"community\" ', ' 0.043*\"use\" ', ' 0.038*\"group\" ', ' 0.033*\"hall\" ', ' 0.024*\"village\" ', ' 0.023*\"facilities\" ', ' 0.019*\"improve\" ', ' 0.019*\"grant\" ', ' 0.018*\"local\" ', ' 0.018*\"fund\"'] \n",
      "\n",
      "['0.080*\"organisation\" ', ' 0.075*\"use\" ', ' 0.070*\"fund\" ', ' 0.059*\"community\" ', ' 0.038*\"group\" ', ' 0.037*\"enable\" ', ' 0.037*\"charity\" ', ' 0.023*\"provide\" ', ' 0.020*\"voluntary\" ', ' 0.016*\"improve\"'] \n",
      "\n",
      "['0.023*\"support\" ', ' 0.020*\"provide\" ', ' 0.019*\"women\" ', ' 0.017*\"new\" ', ' 0.017*\"develop\" ', ' 0.016*\"service\" ', ' 0.015*\"group\" ', ' 0.014*\"development\" ', ' 0.013*\"train\" ', ' 0.013*\"build\"'] \n",
      "\n",
      "['0.018*\"cell\" ', ' 0.012*\"cells\" ', ' 0.012*\"use\" ', ' 0.009*\"signal\" ', ' 0.008*\"role\" ', ' 0.008*\"function\" ', ' 0.008*\"determine\" ', ' 0.007*\"aim\" ', ' 0.006*\"model\" ', ' 0.006*\"understand\"'] \n",
      "\n",
      "['0.042*\"service\" ', ' 0.040*\"support\" ', ' 0.032*\"provide\" ', ' 0.030*\"advice\" ', ' 0.024*\"volunteer\" ', ' 0.021*\"people\" ', ' 0.016*\"train\" ', ' 0.016*\"information\" ', ' 0.014*\"access\" ', ' 0.011*\"fund\"'] \n",
      "\n",
      "['0.096*\"older\" ', ' 0.060*\"people\" ', ' 0.055*\"social\" ', ' 0.029*\"reduce\" ', ' 0.021*\"isolation\" ', ' 0.018*\"grant\" ', ' 0.015*\"care\" ', ' 0.015*\"activities\" ', ' 0.014*\"isolation.\" ', ' 0.013*\"programme\"'] \n",
      "\n",
      "['0.013*\"use\" ', ' 0.012*\"provide\" ', ' 0.010*\"range\" ', ' 0.010*\"classroom\" ', ' 0.009*\"grant\" ', ' 0.009*\"food,\" ', ' 0.009*\"base\" ', ' 0.008*\"arts.\" ', ' 0.008*\"activities\" ', ' 0.008*\"zone\"'] \n",
      "\n",
      "['0.131*\"school\" ', ' 0.037*\"use\" ', ' 0.031*\"pupils\" ', ' 0.026*\"primary\" ', ' 0.021*\"children\" ', ' 0.021*\"outdoor\" ', ' 0.020*\"fund\" ', ' 0.020*\"provide\" ', ' 0.016*\"area\" ', ' 0.013*\"local\"'] \n",
      "\n",
      "['0.014*\"grant\" ', ' 0.013*\"use\" ', ' 0.011*\"redevelop\" ', ' 0.010*\"sea\" ', ' 0.009*\"cadets\" ', ' 0.009*\"provide\" ', ' 0.008*\"belfast.\" ', ' 0.007*\"shropshire.\" ', ' 0.007*\"coffee\" ', ' 0.007*\"new\"'] \n",
      "\n",
      "['0.026*\"train\" ', ' 0.019*\"team\" ', ' 0.011*\"new\" ', ' 0.010*\"youth\" ', ' 0.010*\"netball\" ', ' 0.010*\"football\" ', ' 0.009*\"grant\" ', ' 0.008*\"kit,\" ', ' 0.008*\"course\" ', ' 0.007*\"year\"'] \n",
      "\n",
      "['0.071*\"club\" ', ' 0.049*\"coach\" ', ' 0.025*\"sport\" ', ' 0.022*\"train\" ', ' 0.020*\"new\" ', ' 0.020*\"award\" ', ' 0.017*\"equipment\" ', ' 0.017*\"grant\" ', ' 0.017*\"football\" ', ' 0.017*\"provide\"'] \n",
      "\n",
      "['0.020*\"people\" ', ' 0.020*\"community\" ', ' 0.018*\"group\" ', ' 0.015*\"communities\" ', ' 0.014*\"train\" ', ' 0.014*\"provide\" ', ' 0.012*\"local\" ', ' 0.012*\"work\" ', ' 0.012*\"ethnic\" ', ' 0.011*\"volunteer\"'] \n",
      "\n",
      "['0.144*\"towards\" ', ' 0.094*\"cost\" ', ' 0.042*\"salary\" ', ' 0.029*\"three\" ', ' 0.028*\"support\" ', ' 0.028*\"run\" ', ' 0.019*\"core\" ', ' 0.019*\"people\" ', ' 0.017*\"years\" ', ' 0.014*\"young\"'] \n",
      "\n",
      "['0.039*\"grant\" ', ' 0.015*\"programme\" ', ' 0.015*\"fund\" ', ' 0.009*\"digital\" ', ' 0.009*\"art\" ', ' 0.008*\"work\" ', ' 0.008*\"support\" ', ' 0.008*\"ref\" ', ' 0.008*\"quality\" ', ' 0.007*\"aim\"'] \n",
      "\n",
      "['0.052*\"community\" ', ' 0.037*\"group\" ', ' 0.022*\"provide\" ', ' 0.022*\"local\" ', ' 0.014*\"volunteer\" ', ' 0.014*\"range\" ', ' 0.013*\"promote\" ', ' 0.011*\"activities\" ', ' 0.010*\"aim\" ', ' 0.010*\"language\"'] \n",
      "\n",
      "['0.113*\"fund\" ', ' 0.051*\"contribute\" ', ' 0.044*\"sport\" ', ' 0.044*\"capital\" ', ' 0.044*\"towards\" ', ' 0.041*\"multi\" ', ' 0.037*\"facilities\" ', ' 0.034*\"inspire\" ', ' 0.034*\"activity\" ', ' 0.034*\"programme\"'] \n",
      "\n",
      "['0.131*\"fund\" ', ' 0.076*\"sport\" ', ' 0.071*\"programme\" ', ' 0.061*\"title\" ', ' 0.061*\"activity\" ', ' 0.061*\"england\\'s\" ', ' 0.058*\"main\" ', ' 0.057*\"revenue\" ', ' 0.055*\"list\" ', ' 0.050*\"small\"'] \n",
      "\n",
      "['0.051*\"train\" ', ' 0.046*\"skills\" ', ' 0.033*\"employment\" ', ' 0.018*\"work\" ', ' 0.017*\"fund\" ', ' 0.017*\"gain\" ', ' 0.016*\"use\" ', ' 0.014*\"improve\" ', ' 0.014*\"learn\" ', ' 0.013*\"employment.\"'] \n",
      "\n",
      "['0.087*\"fund\" ', ' 0.081*\"sport\" ', ' 0.064*\"project,\" ', ' 0.061*\"focus\" ', ' 0.051*\"younger\" ', ' 0.046*\"beneficiaries.\" ', ' 0.042*\"programme\" ', ' 0.028*\"title\" ', ' 0.028*\"england\\'s\" ', ' 0.023*\"revenue\"'] \n",
      "\n",
      "['0.052*\"support\" ', ' 0.025*\"provide\" ', ' 0.023*\"parent\" ', ' 0.022*\"mental\" ', ' 0.021*\"health\" ', ' 0.020*\"families\" ', ' 0.020*\"help\" ', ' 0.019*\"children\" ', ' 0.018*\"group\" ', ' 0.015*\"family\"'] \n",
      "\n",
      "['0.012*\"use\" ', ' 0.011*\"identify\" ', ' 0.009*\"genetic\" ', ' 0.009*\"immune\" ', ' 0.008*\"dna\" ', ' 0.008*\"human\" ', ' 0.007*\"host\" ', ' 0.007*\"study\" ', ' 0.007*\"target\" ', ' 0.006*\"infection\"'] \n",
      "\n",
      "['0.063*\"community\" ', ' 0.049*\"local\" ', ' 0.040*\"group\" ', ' 0.029*\"use\" ', ' 0.019*\"people\" ', ' 0.018*\"fund\" ', ' 0.018*\"together\" ', ' 0.017*\"bring\" ', ' 0.014*\"community.\" ', ' 0.014*\"run\"'] \n",
      "\n",
      "['0.081*\"play\" ', ' 0.043*\"children\" ', ' 0.029*\"provide\" ', ' 0.026*\"use\" ', ' 0.024*\"outdoor\" ', ' 0.023*\"area\" ', ' 0.022*\"equipment\" ', ' 0.022*\"group\" ', ' 0.020*\"new\" ', ' 0.016*\"improve\"'] \n",
      "\n",
      "['0.058*\"energy\" ', ' 0.018*\"heat\" ', ' 0.018*\"isle\" ', ' 0.017*\"efficient\" ', ' 0.014*\"request\" ', ' 0.014*\"save\" ', ' 0.011*\"audit\" ', ' 0.011*\"donor\" ', ' 0.010*\"also\" ', ' 0.010*\"grant\"'] \n",
      "\n",
      "['0.021*\"history\" ', ' 0.013*\"produce\" ', ' 0.012*\"group\" ', ' 0.012*\"awareness\" ', ' 0.011*\"public\" ', ' 0.010*\"record\" ', ' 0.010*\"use\" ', ' 0.009*\"information\" ', ' 0.009*\"local\" ', ' 0.009*\"raise\"'] \n",
      "\n",
      "['0.023*\"memorial\" ', ' 0.012*\"sew\" ', ' 0.011*\"comfortable\" ', ' 0.010*\"options\" ', ' 0.009*\"swansea\" ', ' 0.008*\"talent\" ', ' 0.008*\"independently\" ', ' 0.008*\"fund\" ', ' 0.007*\"wales.\" ', ' 0.007*\"bangladeshi\"'] \n",
      "\n",
      "['0.022*\"isolate\" ', ' 0.019*\"rural\" ', ' 0.019*\"improve\" ', ' 0.017*\"health\" ', ' 0.014*\"people\" ', ' 0.014*\"community\" ', ' 0.010*\"live\" ', ' 0.009*\"use\" ', ' 0.009*\"mental\" ', ' 0.009*\"provide\"'] \n",
      "\n",
      "['0.153*\"one\" ', ' 0.036*\"two\" ', ' 0.026*\"carers.\" ', ' 0.026*\"veterans\" ', ' 0.018*\"provide\" ', ' 0.017*\"year\\'s\" ', ' 0.015*\"veterans,\" ', ' 0.015*\"tyne\" ', ' 0.014*\"towards\" ', ' 0.013*\"cost\"'] \n",
      "\n",
      "['0.031*\"research\" ', ' 0.019*\"health\" ', ' 0.011*\"develop\" ', ' 0.007*\"impact\" ', ' 0.006*\"study\" ', ' 0.005*\"aim\" ', ' 0.005*\"key\" ', ' 0.005*\"policy\" ', ' 0.005*\"development\" ', ' 0.005*\"work\"'] \n",
      "\n",
      "['0.009*\"farm\" ', ' 0.007*\"one\" ', ' 0.006*\"scale\" ', ' 0.006*\"intervention\" ', ' 0.006*\"gloucestershire\" ', ' 0.005*\"interpretation\" ', ' 0.005*\"use\" ', ' 0.005*\"beds,\" ', ' 0.005*\"work\" ', ' 0.005*\"remote\"'] \n",
      "\n",
      "['0.056*\"fund\" ', ' 0.055*\"pitch\" ', ' 0.041*\"swim\" ', ' 0.041*\"grass\" ', ' 0.028*\"field\" ', ' 0.024*\"pool\" ', ' 0.022*\"relief\" ', ' 0.022*\"flood\" ', ' 0.021*\"protect\" ', ' 0.021*\"towards\"'] \n",
      "\n",
      "['0.044*\"support\" ', ' 0.037*\"people\" ', ' 0.021*\"work\" ', ' 0.017*\"service\" ', ' 0.016*\"provide\" ', ' 0.016*\"north\" ', ' 0.012*\"help\" ', ' 0.010*\"develop\" ', ' 0.010*\"network\" ', ' 0.008*\"across\"'] \n",
      "\n",
      "['0.031*\"scout\" ', ' 0.020*\"group\" ', ' 0.014*\"organisation.\" ', ' 0.013*\"guide\" ', ' 0.009*\"camp\" ', ' 0.009*\"rebuild\" ', ' 0.009*\"somali\" ', ' 0.008*\"speech\" ', ' 0.007*\"provide\" ', ' 0.007*\"discrimination\"'] \n",
      "\n",
      "['0.053*\"group\" ', ' 0.037*\"provide\" ', ' 0.032*\"purchase\" ', ' 0.030*\"grant\" ', ' 0.028*\"equipment\" ', ' 0.023*\"money\" ', ' 0.018*\"computer\" ', ' 0.015*\"activities\" ', ' 0.014*\"educational\" ', ' 0.014*\"use\"'] \n",
      "\n",
      "['0.029*\"arts\" ', ' 0.017*\"theatre\" ', ' 0.011*\"perform\" ', ' 0.011*\"stage\" ', ' 0.010*\"develop\" ', ' 0.010*\"new\" ', ' 0.010*\"students\" ', ' 0.008*\"use\" ', ' 0.008*\"horticultural\" ', ' 0.008*\"creative\"'] \n",
      "\n",
      "['0.062*\"garden\" ', ' 0.034*\"create\" ', ' 0.026*\"wildlife\" ', ' 0.025*\"community\" ', ' 0.025*\"area\" ', ' 0.023*\"grow\" ', ' 0.019*\"plant\" ', ' 0.017*\"develop\" ', ' 0.014*\"environmental\" ', ' 0.014*\"use\"'] \n",
      "\n",
      "['0.077*\"travel\" ', ' 0.061*\"world\" ', ' 0.061*\"second\" ', ' 0.060*\"war\" ', ' 0.052*\"veteran\" ', ' 0.049*\"visit\" ', ' 0.047*\"cost\" ', ' 0.047*\"grant\" ', ' 0.047*\"award\" ', ' 0.046*\"commemorative\"'] \n",
      "\n",
      "['0.027*\"music\" ', ' 0.026*\"group\" ', ' 0.022*\"workshops\" ', ' 0.020*\"dance\" ', ' 0.019*\"people\" ', ' 0.018*\"young\" ', ' 0.013*\"run\" ', ' 0.012*\"event\" ', ' 0.011*\"include\" ', ' 0.011*\"festival\"'] \n",
      "\n",
      "['0.031*\"healthy\" ', ' 0.031*\"use\" ', ' 0.029*\"school\" ', ' 0.024*\"fund\" ', ' 0.023*\"group\" ', ' 0.021*\"run\" ', ' 0.021*\"activities\" ', ' 0.020*\"physical\" ', ' 0.020*\"improve\" ', ' 0.019*\"health\"'] \n",
      "\n"
     ]
    }
   ],
   "source": [
    "for i,topic in enumerate(lda.print_topics(num_topics=50, num_words=10)):\n",
    "   words = topic[1].split(\"+\")\n",
    "   print(words,\"\\n\")"
   ]
  },
  {
   "cell_type": "code",
   "execution_count": 24,
   "metadata": {},
   "outputs": [],
   "source": [
    "import pickle\n",
    "ldafile = open('multicore simple lda','wb')\n",
    "pickle.dump(lda,ldafile)\n",
    "ldafile.close()"
   ]
  }
 ],
 "metadata": {
  "kernelspec": {
   "display_name": "Python 3",
   "language": "python",
   "name": "python3"
  },
  "language_info": {
   "codemirror_mode": {
    "name": "ipython",
    "version": 3
   },
   "file_extension": ".py",
   "mimetype": "text/x-python",
   "name": "python",
   "nbconvert_exporter": "python",
   "pygments_lexer": "ipython3",
   "version": "3.6.5"
  }
 },
 "nbformat": 4,
 "nbformat_minor": 2
}
